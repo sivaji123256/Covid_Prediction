{
  "nbformat": 4,
  "nbformat_minor": 0,
  "metadata": {
    "colab": {
      "name": "covid_prediction.ipynb",
      "provenance": []
    },
    "kernelspec": {
      "display_name": "Python 3",
      "name": "python3"
    }
  },
  "cells": [
    {
      "cell_type": "code",
      "metadata": {
        "id": "IT4uBuGpyYcf",
        "outputId": "6218e3a4-5d7d-407a-d7ba-2b141a7b7110",
        "colab": {
          "base_uri": "https://localhost:8080/",
          "height": 34
        }
      },
      "source": [
        "from google.colab import drive\n",
        "drive.mount(\"/content/drive\")"
      ],
      "execution_count": null,
      "outputs": [
        {
          "output_type": "stream",
          "text": [
            "Mounted at /content/drive\n"
          ],
          "name": "stdout"
        }
      ]
    },
    {
      "cell_type": "code",
      "metadata": {
        "id": "KBvh3scWvEuq"
      },
      "source": [
        "import os\n",
        "import json\n",
        "import numpy as np\n",
        "import pandas as pd\n",
        "import keras\n",
        "from keras import layers\n",
        "from keras.applications import DenseNet121\n",
        "from keras.callbacks import Callback, ModelCheckpoint\n",
        "from keras.preprocessing.image import ImageDataGenerator\n",
        "from keras.layers import Dense, Dropout, Activation, Flatten\n",
        "from keras.layers import Conv2D, MaxPooling2D\n",
        "from keras.models import Sequential\n",
        "from sklearn.model_selection import train_test_split\n",
        "from sklearn.metrics import confusion_matrix, f1_score, precision_score, recall_score"
      ],
      "execution_count": null,
      "outputs": []
    },
    {
      "cell_type": "code",
      "metadata": {
        "id": "Y9JWkMHj3h-Y"
      },
      "source": [
        "os.environ[\"TF_CPP_MIN_LOG_LEVEL\"] = \"2\""
      ],
      "execution_count": null,
      "outputs": []
    },
    {
      "cell_type": "code",
      "metadata": {
        "id": "aT8hmHsD3pSO"
      },
      "source": [
        "x_train = np.load('/content/drive/My Drive/data.npy')\n",
        "x_train = np.repeat(x_train[..., np.newaxis], 3, -1)\n",
        "y_train = np.load('/content/drive/My Drive/lable.npy')\n",
        "y_train = keras.utils.to_categorical(y_train, num_classes = 2)"
      ],
      "execution_count": null,
      "outputs": []
    },
    {
      "cell_type": "code",
      "metadata": {
        "id": "syXsbxAG3qMA",
        "outputId": "33bc9092-36c3-42fb-f6a9-bdace4602649",
        "colab": {
          "base_uri": "https://localhost:8080/",
          "height": 51
        }
      },
      "source": [
        "print(x_train.shape)\n",
        "print(y_train.shape)"
      ],
      "execution_count": null,
      "outputs": [
        {
          "output_type": "stream",
          "text": [
            "(305, 224, 224, 3)\n",
            "(305, 2)\n"
          ],
          "name": "stdout"
        }
      ]
    },
    {
      "cell_type": "code",
      "metadata": {
        "id": "UKlzU28Xi2lT"
      },
      "source": [
        "x_train = x_train.astype('float32')\n",
        "x_train /= 255"
      ],
      "execution_count": null,
      "outputs": []
    },
    {
      "cell_type": "code",
      "metadata": {
        "id": "w1kPHt58i8OD",
        "outputId": "86fb6d1c-67db-4c0d-8fd9-c7b4ee510178",
        "colab": {
          "base_uri": "https://localhost:8080/",
          "height": 326
        }
      },
      "source": [
        "densenet = DenseNet121(\n",
        "    weights='imagenet',\n",
        "    include_top=False,\n",
        "    input_shape=(224, 224, 3)\n",
        ")\n",
        "model = Sequential()\n",
        "model.add(densenet)\n",
        "model.add(layers.GlobalAveragePooling2D())\n",
        "model.add(layers.Dense(2, activation='softmax'))\n",
        "model.compile(loss='categorical_crossentropy',\n",
        "              optimizer='adam',\n",
        "              metrics=['accuracy'])\n",
        "\n",
        "print(model.summary())"
      ],
      "execution_count": null,
      "outputs": [
        {
          "output_type": "stream",
          "text": [
            "Downloading data from https://storage.googleapis.com/tensorflow/keras-applications/densenet/densenet121_weights_tf_dim_ordering_tf_kernels_notop.h5\n",
            "29089792/29084464 [==============================] - 1s 0us/step\n",
            "Model: \"sequential\"\n",
            "_________________________________________________________________\n",
            "Layer (type)                 Output Shape              Param #   \n",
            "=================================================================\n",
            "densenet121 (Functional)     (None, 7, 7, 1024)        7037504   \n",
            "_________________________________________________________________\n",
            "global_average_pooling2d (Gl (None, 1024)              0         \n",
            "_________________________________________________________________\n",
            "dense (Dense)                (None, 2)                 2050      \n",
            "=================================================================\n",
            "Total params: 7,039,554\n",
            "Trainable params: 6,955,906\n",
            "Non-trainable params: 83,648\n",
            "_________________________________________________________________\n",
            "None\n"
          ],
          "name": "stdout"
        }
      ]
    },
    {
      "cell_type": "code",
      "metadata": {
        "id": "jwnwCUGai-dq",
        "outputId": "71692391-aff3-40d4-b6fe-0f0d6b200bd2",
        "colab": {
          "background_save": true,
          "base_uri": "https://localhost:8080/",
          "height": 1000
        }
      },
      "source": [
        "model.compile(\n",
        "    loss='categorical_crossentropy',\n",
        "    optimizer='adam',\n",
        "    metrics=['accuracy']\n",
        ")\n",
        "\n",
        "checkpoint = ModelCheckpoint(\n",
        "    'model.h5', \n",
        "    monitor='val_acc', \n",
        "    verbose=1, \n",
        "    save_best_only=True, \n",
        "    save_weights_only=False,\n",
        "    mode='auto'\n",
        ")\n",
        "\n",
        "history = model.fit(\n",
        "    x=x_train,\n",
        "    y=y_train,\n",
        "    batch_size=64,\n",
        "    epochs=100,\n",
        "    validation_split=0.1\n",
        ")\n"
      ],
      "execution_count": null,
      "outputs": [
        {
          "output_type": "stream",
          "text": [
            "Epoch 1/100\n",
            "5/5 [==============================] - 149s 30s/step - loss: 0.9197 - accuracy: 0.5693 - val_loss: 1.7574 - val_accuracy: 0.3548\n",
            "Epoch 2/100\n",
            "5/5 [==============================] - 154s 31s/step - loss: 0.2331 - accuracy: 0.9051 - val_loss: 0.4093 - val_accuracy: 0.8710\n",
            "Epoch 3/100\n",
            "5/5 [==============================] - 151s 30s/step - loss: 0.3431 - accuracy: 0.8686 - val_loss: 0.7225 - val_accuracy: 0.9355\n",
            "Epoch 4/100\n",
            "5/5 [==============================] - 153s 31s/step - loss: 0.1917 - accuracy: 0.9234 - val_loss: 0.5898 - val_accuracy: 0.9355\n",
            "Epoch 5/100\n",
            "5/5 [==============================] - 152s 30s/step - loss: 0.1283 - accuracy: 0.9416 - val_loss: 0.3967 - val_accuracy: 0.9355\n",
            "Epoch 6/100\n",
            "5/5 [==============================] - 152s 30s/step - loss: 0.0648 - accuracy: 0.9708 - val_loss: 0.3615 - val_accuracy: 0.9355\n",
            "Epoch 7/100\n",
            "5/5 [==============================] - 149s 30s/step - loss: 0.0953 - accuracy: 0.9635 - val_loss: 1.3857 - val_accuracy: 0.1613\n",
            "Epoch 8/100\n",
            "5/5 [==============================] - 146s 29s/step - loss: 0.0824 - accuracy: 0.9708 - val_loss: 1.2694 - val_accuracy: 0.2903\n",
            "Epoch 9/100\n",
            "5/5 [==============================] - 151s 30s/step - loss: 0.0507 - accuracy: 0.9745 - val_loss: 0.6744 - val_accuracy: 0.5484\n",
            "Epoch 10/100\n",
            "5/5 [==============================] - 146s 29s/step - loss: 0.0623 - accuracy: 0.9781 - val_loss: 0.8893 - val_accuracy: 0.5161\n",
            "Epoch 11/100\n",
            "5/5 [==============================] - 141s 28s/step - loss: 0.1306 - accuracy: 0.9453 - val_loss: 0.3736 - val_accuracy: 0.9355\n",
            "Epoch 12/100\n",
            "5/5 [==============================] - 146s 29s/step - loss: 0.0831 - accuracy: 0.9745 - val_loss: 0.9400 - val_accuracy: 0.7742\n",
            "Epoch 13/100\n",
            "5/5 [==============================] - 139s 28s/step - loss: 0.0641 - accuracy: 0.9745 - val_loss: 1.2521 - val_accuracy: 0.7742\n",
            "Epoch 14/100\n",
            "5/5 [==============================] - 150s 30s/step - loss: 0.0312 - accuracy: 0.9927 - val_loss: 0.7753 - val_accuracy: 0.9032\n",
            "Epoch 15/100\n",
            "5/5 [==============================] - 149s 30s/step - loss: 0.0285 - accuracy: 0.9854 - val_loss: 0.5423 - val_accuracy: 0.8710\n",
            "Epoch 16/100\n",
            "5/5 [==============================] - 150s 30s/step - loss: 0.0134 - accuracy: 0.9964 - val_loss: 0.7661 - val_accuracy: 0.8065\n",
            "Epoch 17/100\n",
            "5/5 [==============================] - 153s 31s/step - loss: 0.0026 - accuracy: 1.0000 - val_loss: 1.1775 - val_accuracy: 0.6452\n",
            "Epoch 18/100\n",
            "5/5 [==============================] - 149s 30s/step - loss: 0.0028 - accuracy: 1.0000 - val_loss: 1.3964 - val_accuracy: 0.5161\n",
            "Epoch 19/100\n",
            "5/5 [==============================] - 152s 30s/step - loss: 0.0033 - accuracy: 1.0000 - val_loss: 1.2535 - val_accuracy: 0.5484\n",
            "Epoch 20/100\n",
            "5/5 [==============================] - 147s 29s/step - loss: 0.0034 - accuracy: 1.0000 - val_loss: 1.2595 - val_accuracy: 0.4516\n",
            "Epoch 21/100\n",
            "5/5 [==============================] - 144s 29s/step - loss: 0.0012 - accuracy: 1.0000 - val_loss: 1.1530 - val_accuracy: 0.5806\n",
            "Epoch 22/100\n",
            "5/5 [==============================] - 141s 28s/step - loss: 0.0033 - accuracy: 1.0000 - val_loss: 0.9550 - val_accuracy: 0.6129\n",
            "Epoch 23/100\n",
            "5/5 [==============================] - 138s 28s/step - loss: 0.0016 - accuracy: 1.0000 - val_loss: 0.7686 - val_accuracy: 0.6129\n",
            "Epoch 24/100\n",
            "5/5 [==============================] - 137s 27s/step - loss: 4.5473e-04 - accuracy: 1.0000 - val_loss: 0.5876 - val_accuracy: 0.7419\n",
            "Epoch 25/100\n",
            "5/5 [==============================] - 141s 28s/step - loss: 3.5720e-04 - accuracy: 1.0000 - val_loss: 0.4601 - val_accuracy: 0.8387\n",
            "Epoch 26/100\n",
            "5/5 [==============================] - 146s 29s/step - loss: 1.9648e-04 - accuracy: 1.0000 - val_loss: 0.4096 - val_accuracy: 0.8710\n",
            "Epoch 27/100\n",
            "5/5 [==============================] - 142s 28s/step - loss: 1.9076e-04 - accuracy: 1.0000 - val_loss: 0.4037 - val_accuracy: 0.8710\n",
            "Epoch 28/100\n",
            "5/5 [==============================] - 140s 28s/step - loss: 0.0022 - accuracy: 1.0000 - val_loss: 0.4311 - val_accuracy: 0.9355\n",
            "Epoch 29/100\n",
            "5/5 [==============================] - 146s 29s/step - loss: 0.0087 - accuracy: 0.9964 - val_loss: 0.7252 - val_accuracy: 0.9355\n",
            "Epoch 30/100\n",
            "5/5 [==============================] - 146s 29s/step - loss: 0.0973 - accuracy: 0.9562 - val_loss: 0.8416 - val_accuracy: 0.8710\n",
            "Epoch 31/100\n",
            "5/5 [==============================] - 144s 29s/step - loss: 0.1745 - accuracy: 0.9307 - val_loss: 0.5593 - val_accuracy: 0.9032\n",
            "Epoch 32/100\n",
            "5/5 [==============================] - 144s 29s/step - loss: 0.1671 - accuracy: 0.9343 - val_loss: 2.1451 - val_accuracy: 0.9355\n",
            "Epoch 33/100\n",
            "5/5 [==============================] - 144s 29s/step - loss: 0.1760 - accuracy: 0.9343 - val_loss: 0.7990 - val_accuracy: 0.9032\n",
            "Epoch 34/100\n",
            "5/5 [==============================] - 143s 29s/step - loss: 0.1124 - accuracy: 0.9708 - val_loss: 12.2087 - val_accuracy: 0.2258\n",
            "Epoch 35/100\n",
            "5/5 [==============================] - 144s 29s/step - loss: 0.0397 - accuracy: 0.9854 - val_loss: 4.5792 - val_accuracy: 0.3226\n",
            "Epoch 36/100\n",
            "5/5 [==============================] - 144s 29s/step - loss: 0.0464 - accuracy: 0.9854 - val_loss: 0.9055 - val_accuracy: 0.9032\n",
            "Epoch 37/100\n",
            "5/5 [==============================] - 144s 29s/step - loss: 0.0080 - accuracy: 1.0000 - val_loss: 1.0525 - val_accuracy: 0.9355\n",
            "Epoch 38/100\n",
            "5/5 [==============================] - 142s 28s/step - loss: 0.0104 - accuracy: 0.9964 - val_loss: 0.9370 - val_accuracy: 0.9355\n",
            "Epoch 39/100\n",
            "5/5 [==============================] - 142s 28s/step - loss: 0.0029 - accuracy: 1.0000 - val_loss: 0.8971 - val_accuracy: 0.9355\n",
            "Epoch 40/100\n",
            "5/5 [==============================] - 143s 29s/step - loss: 0.0036 - accuracy: 1.0000 - val_loss: 0.8870 - val_accuracy: 0.9355\n",
            "Epoch 41/100\n",
            "5/5 [==============================] - 145s 29s/step - loss: 0.0018 - accuracy: 1.0000 - val_loss: 0.8717 - val_accuracy: 0.9355\n",
            "Epoch 42/100\n",
            "5/5 [==============================] - 143s 29s/step - loss: 0.0014 - accuracy: 1.0000 - val_loss: 0.8670 - val_accuracy: 0.9355\n",
            "Epoch 43/100\n",
            "5/5 [==============================] - 143s 29s/step - loss: 0.0013 - accuracy: 1.0000 - val_loss: 0.8697 - val_accuracy: 0.9355\n",
            "Epoch 44/100\n",
            "5/5 [==============================] - 142s 28s/step - loss: 5.2478e-04 - accuracy: 1.0000 - val_loss: 0.8872 - val_accuracy: 0.9355\n",
            "Epoch 45/100\n",
            "5/5 [==============================] - 143s 29s/step - loss: 4.3537e-04 - accuracy: 1.0000 - val_loss: 0.8994 - val_accuracy: 0.9355\n",
            "Epoch 46/100\n",
            "5/5 [==============================] - 144s 29s/step - loss: 3.1043e-04 - accuracy: 1.0000 - val_loss: 0.8952 - val_accuracy: 0.9355\n",
            "Epoch 47/100\n",
            "5/5 [==============================] - 143s 29s/step - loss: 4.5247e-04 - accuracy: 1.0000 - val_loss: 0.8879 - val_accuracy: 0.9355\n",
            "Epoch 48/100\n",
            "5/5 [==============================] - 149s 30s/step - loss: 2.3573e-04 - accuracy: 1.0000 - val_loss: 0.8787 - val_accuracy: 0.9355\n",
            "Epoch 49/100\n",
            "5/5 [==============================] - 150s 30s/step - loss: 5.4740e-04 - accuracy: 1.0000 - val_loss: 0.8682 - val_accuracy: 0.9355\n",
            "Epoch 50/100\n",
            "5/5 [==============================] - 156s 31s/step - loss: 1.9763e-04 - accuracy: 1.0000 - val_loss: 0.8615 - val_accuracy: 0.9355\n",
            "Epoch 51/100\n",
            "5/5 [==============================] - 152s 30s/step - loss: 5.2566e-04 - accuracy: 1.0000 - val_loss: 0.8576 - val_accuracy: 0.9355\n",
            "Epoch 52/100\n",
            "5/5 [==============================] - 149s 30s/step - loss: 1.4262e-04 - accuracy: 1.0000 - val_loss: 0.8607 - val_accuracy: 0.9355\n",
            "Epoch 53/100\n",
            "5/5 [==============================] - 146s 29s/step - loss: 1.6514e-04 - accuracy: 1.0000 - val_loss: 0.8599 - val_accuracy: 0.9355\n",
            "Epoch 54/100\n",
            "5/5 [==============================] - 146s 29s/step - loss: 0.0016 - accuracy: 1.0000 - val_loss: 0.8204 - val_accuracy: 0.9355\n",
            "Epoch 55/100\n",
            "5/5 [==============================] - 147s 29s/step - loss: 9.3001e-04 - accuracy: 1.0000 - val_loss: 0.6088 - val_accuracy: 0.9355\n",
            "Epoch 56/100\n",
            "5/5 [==============================] - 150s 30s/step - loss: 0.0088 - accuracy: 0.9964 - val_loss: 0.6870 - val_accuracy: 0.9355\n",
            "Epoch 57/100\n",
            "5/5 [==============================] - 158s 32s/step - loss: 0.0130 - accuracy: 0.9927 - val_loss: 0.7315 - val_accuracy: 0.9355\n",
            "Epoch 58/100\n",
            "5/5 [==============================] - 154s 31s/step - loss: 0.0484 - accuracy: 0.9781 - val_loss: 0.6645 - val_accuracy: 0.9355\n",
            "Epoch 59/100\n",
            "5/5 [==============================] - 152s 30s/step - loss: 0.0178 - accuracy: 0.9964 - val_loss: 0.8594 - val_accuracy: 0.9032\n",
            "Epoch 60/100\n",
            "5/5 [==============================] - 155s 31s/step - loss: 0.0156 - accuracy: 0.9927 - val_loss: 1.4768 - val_accuracy: 0.9032\n",
            "Epoch 61/100\n",
            "5/5 [==============================] - 160s 32s/step - loss: 0.0175 - accuracy: 0.9927 - val_loss: 1.7129 - val_accuracy: 0.9032\n",
            "Epoch 62/100\n",
            "5/5 [==============================] - 148s 30s/step - loss: 0.0291 - accuracy: 0.9891 - val_loss: 1.6286 - val_accuracy: 0.9032\n",
            "Epoch 63/100\n",
            "5/5 [==============================] - 172s 34s/step - loss: 0.0117 - accuracy: 0.9964 - val_loss: 1.3569 - val_accuracy: 0.9032\n",
            "Epoch 64/100\n",
            "5/5 [==============================] - 183s 37s/step - loss: 0.0180 - accuracy: 0.9927 - val_loss: 1.3756 - val_accuracy: 0.8065\n",
            "Epoch 65/100\n",
            "5/5 [==============================] - 149s 30s/step - loss: 0.0121 - accuracy: 1.0000 - val_loss: 0.9666 - val_accuracy: 0.8065\n",
            "Epoch 66/100\n",
            "5/5 [==============================] - 148s 30s/step - loss: 0.0016 - accuracy: 1.0000 - val_loss: 0.8106 - val_accuracy: 0.8387\n",
            "Epoch 67/100\n",
            "5/5 [==============================] - 148s 30s/step - loss: 0.0060 - accuracy: 1.0000 - val_loss: 0.6208 - val_accuracy: 0.9032\n",
            "Epoch 68/100\n",
            "5/5 [==============================] - 150s 30s/step - loss: 0.0018 - accuracy: 1.0000 - val_loss: 0.4179 - val_accuracy: 0.8710\n",
            "Epoch 69/100\n",
            "5/5 [==============================] - 146s 29s/step - loss: 0.0031 - accuracy: 1.0000 - val_loss: 0.3328 - val_accuracy: 0.8710\n",
            "Epoch 70/100\n",
            "5/5 [==============================] - 148s 30s/step - loss: 3.4781e-04 - accuracy: 1.0000 - val_loss: 0.2673 - val_accuracy: 0.8710\n",
            "Epoch 71/100\n",
            "5/5 [==============================] - 151s 30s/step - loss: 0.0082 - accuracy: 0.9964 - val_loss: 0.1622 - val_accuracy: 0.9355\n",
            "Epoch 72/100\n",
            "5/5 [==============================] - 151s 30s/step - loss: 0.0220 - accuracy: 0.9964 - val_loss: 0.6916 - val_accuracy: 0.9355\n",
            "Epoch 73/100\n",
            "5/5 [==============================] - 153s 31s/step - loss: 0.0184 - accuracy: 0.9927 - val_loss: 0.8813 - val_accuracy: 0.9355\n",
            "Epoch 74/100\n",
            "5/5 [==============================] - 157s 31s/step - loss: 0.0065 - accuracy: 0.9964 - val_loss: 0.8941 - val_accuracy: 0.9355\n",
            "Epoch 75/100\n",
            "5/5 [==============================] - 156s 31s/step - loss: 0.0037 - accuracy: 1.0000 - val_loss: 0.8008 - val_accuracy: 0.9355\n",
            "Epoch 76/100\n",
            "5/5 [==============================] - 154s 31s/step - loss: 0.0019 - accuracy: 1.0000 - val_loss: 0.7599 - val_accuracy: 0.9355\n",
            "Epoch 77/100\n",
            "5/5 [==============================] - 154s 31s/step - loss: 0.0103 - accuracy: 0.9927 - val_loss: 0.7119 - val_accuracy: 0.9355\n",
            "Epoch 78/100\n",
            "5/5 [==============================] - 148s 30s/step - loss: 0.0016 - accuracy: 1.0000 - val_loss: 0.6025 - val_accuracy: 0.9355\n",
            "Epoch 79/100\n",
            "5/5 [==============================] - 149s 30s/step - loss: 0.0016 - accuracy: 1.0000 - val_loss: 0.4881 - val_accuracy: 0.9032\n",
            "Epoch 80/100\n",
            "5/5 [==============================] - 148s 30s/step - loss: 0.0011 - accuracy: 1.0000 - val_loss: 0.5379 - val_accuracy: 0.9032\n",
            "Epoch 81/100\n",
            "5/5 [==============================] - 147s 29s/step - loss: 5.0976e-04 - accuracy: 1.0000 - val_loss: 0.5734 - val_accuracy: 0.8710\n",
            "Epoch 82/100\n",
            "5/5 [==============================] - 146s 29s/step - loss: 5.6801e-04 - accuracy: 1.0000 - val_loss: 0.5906 - val_accuracy: 0.8387\n",
            "Epoch 83/100\n",
            "5/5 [==============================] - 147s 29s/step - loss: 6.1060e-04 - accuracy: 1.0000 - val_loss: 0.6074 - val_accuracy: 0.8387\n",
            "Epoch 84/100\n",
            "5/5 [==============================] - 164s 33s/step - loss: 2.5879e-04 - accuracy: 1.0000 - val_loss: 0.6803 - val_accuracy: 0.8710\n",
            "Epoch 85/100\n",
            "5/5 [==============================] - 161s 32s/step - loss: 0.0014 - accuracy: 1.0000 - val_loss: 0.6614 - val_accuracy: 0.8710\n",
            "Epoch 86/100\n",
            "5/5 [==============================] - 158s 32s/step - loss: 2.9006e-04 - accuracy: 1.0000 - val_loss: 0.6189 - val_accuracy: 0.8710\n",
            "Epoch 87/100\n",
            "5/5 [==============================] - 160s 32s/step - loss: 2.8447e-04 - accuracy: 1.0000 - val_loss: 0.5979 - val_accuracy: 0.9032\n",
            "Epoch 88/100\n",
            "5/5 [==============================] - 163s 33s/step - loss: 1.8897e-04 - accuracy: 1.0000 - val_loss: 0.5932 - val_accuracy: 0.9032\n",
            "Epoch 89/100\n",
            "5/5 [==============================] - 157s 31s/step - loss: 3.2363e-04 - accuracy: 1.0000 - val_loss: 0.5914 - val_accuracy: 0.9032\n",
            "Epoch 90/100\n",
            "5/5 [==============================] - 149s 30s/step - loss: 3.2234e-04 - accuracy: 1.0000 - val_loss: 0.6011 - val_accuracy: 0.9032\n",
            "Epoch 91/100\n",
            "5/5 [==============================] - 148s 30s/step - loss: 9.4113e-05 - accuracy: 1.0000 - val_loss: 0.6243 - val_accuracy: 0.9032\n",
            "Epoch 92/100\n",
            "5/5 [==============================] - 148s 30s/step - loss: 2.2599e-04 - accuracy: 1.0000 - val_loss: 0.6372 - val_accuracy: 0.9032\n",
            "Epoch 93/100\n",
            "5/5 [==============================] - 148s 30s/step - loss: 8.9036e-05 - accuracy: 1.0000 - val_loss: 0.6479 - val_accuracy: 0.9032\n",
            "Epoch 94/100\n",
            "5/5 [==============================] - 147s 29s/step - loss: 9.0800e-05 - accuracy: 1.0000 - val_loss: 0.6449 - val_accuracy: 0.9032\n",
            "Epoch 95/100\n",
            "5/5 [==============================] - 153s 31s/step - loss: 7.7871e-05 - accuracy: 1.0000 - val_loss: 0.6424 - val_accuracy: 0.9032\n",
            "Epoch 96/100\n",
            "5/5 [==============================] - 156s 31s/step - loss: 8.9994e-05 - accuracy: 1.0000 - val_loss: 0.6373 - val_accuracy: 0.9355\n",
            "Epoch 97/100\n",
            "5/5 [==============================] - 157s 31s/step - loss: 9.1794e-05 - accuracy: 1.0000 - val_loss: 0.6277 - val_accuracy: 0.9032\n",
            "Epoch 98/100\n",
            "5/5 [==============================] - 160s 32s/step - loss: 7.0709e-05 - accuracy: 1.0000 - val_loss: 0.6230 - val_accuracy: 0.9355\n",
            "Epoch 99/100\n",
            "5/5 [==============================] - 160s 32s/step - loss: 1.4814e-04 - accuracy: 1.0000 - val_loss: 0.6236 - val_accuracy: 0.9355\n",
            "Epoch 100/100\n",
            "5/5 [==============================] - 151s 30s/step - loss: 6.3712e-05 - accuracy: 1.0000 - val_loss: 0.6213 - val_accuracy: 0.9355\n"
          ],
          "name": "stdout"
        }
      ]
    },
    {
      "cell_type": "code",
      "metadata": {
        "id": "48rIErpUjJdS"
      },
      "source": [
        "model.save_weights(\"densenet_weights.h5\")"
      ],
      "execution_count": 9,
      "outputs": []
    },
    {
      "cell_type": "code",
      "metadata": {
        "id": "1yn9ox-T3y4A",
        "outputId": "1f8376dd-5d7f-4905-f582-f5d7a7ea821b",
        "colab": {
          "base_uri": "https://localhost:8080/",
          "height": 34
        }
      },
      "source": [
        "!ls"
      ],
      "execution_count": 10,
      "outputs": [
        {
          "output_type": "stream",
          "text": [
            "densenet_weights.h5  drive  sample_data\n"
          ],
          "name": "stdout"
        }
      ]
    },
    {
      "cell_type": "code",
      "metadata": {
        "id": "bxTulcX3sRy3",
        "outputId": "b9047fc2-605a-400a-a8eb-79ce54607d49",
        "colab": {
          "base_uri": "https://localhost:8080/",
          "height": 34
        }
      },
      "source": [
        "from google.colab import files\n",
        "files.download('densenet_weights.h5') "
      ],
      "execution_count": 11,
      "outputs": [
        {
          "output_type": "display_data",
          "data": {
            "application/javascript": [
              "\n",
              "    async function download(id, filename, size) {\n",
              "      if (!google.colab.kernel.accessAllowed) {\n",
              "        return;\n",
              "      }\n",
              "      const div = document.createElement('div');\n",
              "      const label = document.createElement('label');\n",
              "      label.textContent = `Downloading \"${filename}\": `;\n",
              "      div.appendChild(label);\n",
              "      const progress = document.createElement('progress');\n",
              "      progress.max = size;\n",
              "      div.appendChild(progress);\n",
              "      document.body.appendChild(div);\n",
              "\n",
              "      const buffers = [];\n",
              "      let downloaded = 0;\n",
              "\n",
              "      const channel = await google.colab.kernel.comms.open(id);\n",
              "      // Send a message to notify the kernel that we're ready.\n",
              "      channel.send({})\n",
              "\n",
              "      for await (const message of channel.messages) {\n",
              "        // Send a message to notify the kernel that we're ready.\n",
              "        channel.send({})\n",
              "        if (message.buffers) {\n",
              "          for (const buffer of message.buffers) {\n",
              "            buffers.push(buffer);\n",
              "            downloaded += buffer.byteLength;\n",
              "            progress.value = downloaded;\n",
              "          }\n",
              "        }\n",
              "      }\n",
              "      const blob = new Blob(buffers, {type: 'application/binary'});\n",
              "      const a = document.createElement('a');\n",
              "      a.href = window.URL.createObjectURL(blob);\n",
              "      a.download = filename;\n",
              "      div.appendChild(a);\n",
              "      a.click();\n",
              "      div.remove();\n",
              "    }\n",
              "  "
            ],
            "text/plain": [
              "<IPython.core.display.Javascript object>"
            ]
          },
          "metadata": {
            "tags": []
          }
        },
        {
          "output_type": "display_data",
          "data": {
            "application/javascript": [
              "download(\"download_feaf9fe5-92cb-4527-9a00-5a65f90904aa\", \"densenet_weights.h5\", 28642304)"
            ],
            "text/plain": [
              "<IPython.core.display.Javascript object>"
            ]
          },
          "metadata": {
            "tags": []
          }
        }
      ]
    },
    {
      "cell_type": "code",
      "metadata": {
        "id": "Ln4TYjPStQPx",
        "outputId": "d62b92af-a4e0-4707-aa7f-eb578be4267b",
        "colab": {
          "base_uri": "https://localhost:8080/",
          "height": 34
        }
      },
      "source": [
        "x_test = np.load('/content/drive/My Drive/test_images.npy')\n",
        "x_test = np.repeat(x_test[..., np.newaxis], 3, -1)\n",
        "y_test = np.load('/content/drive/My Drive/test_labels.npy')\n",
        "x_test = x_test.astype('float32')\n",
        "x_test /= 255\n",
        "x_test.shape"
      ],
      "execution_count": 12,
      "outputs": [
        {
          "output_type": "execute_result",
          "data": {
            "text/plain": [
              "(98, 224, 224, 3)"
            ]
          },
          "metadata": {
            "tags": []
          },
          "execution_count": 12
        }
      ]
    },
    {
      "cell_type": "code",
      "metadata": {
        "id": "uJXxTyi_i1TF",
        "outputId": "a77383f7-3c9c-48eb-bc1a-38d2b315a9be",
        "colab": {
          "base_uri": "https://localhost:8080/",
          "height": 139
        }
      },
      "source": [
        "result = model.predict_classes(x_test)\n",
        "print(result)"
      ],
      "execution_count": 13,
      "outputs": [
        {
          "output_type": "stream",
          "text": [
            "WARNING:tensorflow:From <ipython-input-13-8cc46a0b60b8>:1: Sequential.predict_classes (from tensorflow.python.keras.engine.sequential) is deprecated and will be removed after 2021-01-01.\n",
            "Instructions for updating:\n",
            "Please use instead:* `np.argmax(model.predict(x), axis=-1)`,   if your model does multi-class classification   (e.g. if it uses a `softmax` last-layer activation).* `(model.predict(x) > 0.5).astype(\"int32\")`,   if your model does binary classification   (e.g. if it uses a `sigmoid` last-layer activation).\n",
            "[1 1 1 1 1 1 1 1 1 1 1 1 1 1 1 1 1 1 1 1 1 1 1 1 1 1 1 1 1 1 1 1 1 1 1 1 1\n",
            " 1 1 1 1 1 1 1 1 1 1 1 1 1 1 1 1 1 1 1 1 1 1 1 1 1 1 1 1 1 1 1 1 1 1 1 1 1\n",
            " 1 1 1 1 1 1 1 1 1 1 1 1 1 1 1 1 1 1 1 1 1 1 1 1]\n"
          ],
          "name": "stdout"
        }
      ]
    },
    {
      "cell_type": "code",
      "metadata": {
        "id": "cvZtrtNSi470"
      },
      "source": [
        ""
      ],
      "execution_count": null,
      "outputs": []
    }
  ]
}