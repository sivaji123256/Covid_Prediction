{
  "nbformat": 4,
  "nbformat_minor": 0,
  "metadata": {
    "colab": {
      "name": "full_model.ipynb",
      "provenance": []
    },
    "kernelspec": {
      "name": "python3",
      "display_name": "Python 3"
    }
  },
  "cells": [
    {
      "cell_type": "code",
      "metadata": {
        "id": "9MXYTnElP1IB",
        "outputId": "b8416a8e-c7cf-434d-fc08-3b86da5a08da",
        "colab": {
          "base_uri": "https://localhost:8080/",
          "height": 34
        }
      },
      "source": [
        "from google.colab import drive\n",
        "drive.mount(\"/content/drive\")"
      ],
      "execution_count": null,
      "outputs": [
        {
          "output_type": "stream",
          "text": [
            "Mounted at /content/drive\n"
          ],
          "name": "stdout"
        }
      ]
    },
    {
      "cell_type": "code",
      "metadata": {
        "id": "imQLJw0ZQAbz"
      },
      "source": [
        "import numpy as np\n",
        "import os\n",
        "import json\n",
        "import pandas as pd\n",
        "import tensorflow as tf\n",
        "from tensorflow import keras\n",
        "from keras import layers\n",
        "from keras.applications import DenseNet121\n",
        "from keras.callbacks import Callback, ModelCheckpoint\n",
        "from keras.preprocessing.image import ImageDataGenerator\n",
        "from keras.layers import Dense, Dropout, Activation, Flatten\n",
        "from keras.layers import Conv2D, MaxPooling2D\n",
        "from keras.models import Sequential\n",
        "from sklearn.model_selection import train_test_split\n",
        "from sklearn.metrics import confusion_matrix, f1_score, precision_score, recall_score"
      ],
      "execution_count": null,
      "outputs": []
    },
    {
      "cell_type": "code",
      "metadata": {
        "id": "BxdZK6GxQEkc",
        "outputId": "2bb89dc3-caac-4137-937b-bd9cf704bd96",
        "colab": {
          "base_uri": "https://localhost:8080/",
          "height": 34
        }
      },
      "source": [
        "x_train = np.load('/content/drive/My Drive/data.npy')\n",
        "x_train = np.repeat(x_train[..., np.newaxis], 1, -1)\n",
        "y_train = np.load('/content/drive/My Drive/lable.npy')\n",
        "y_train = keras.utils.to_categorical(y_train, num_classes = 2)\n",
        "x_train = x_train.astype('float32')\n",
        "x_train /= 255\n",
        "x_train.shape"
      ],
      "execution_count": null,
      "outputs": [
        {
          "output_type": "execute_result",
          "data": {
            "text/plain": [
              "(305, 224, 224, 1)"
            ]
          },
          "metadata": {
            "tags": []
          },
          "execution_count": 3
        }
      ]
    },
    {
      "cell_type": "code",
      "metadata": {
        "id": "IijCmEN7QXBZ"
      },
      "source": [
        "class Sampling(layers.Layer):\n",
        "    \"\"\"Uses (z_mean, z_log_var) to sample z, the vector encoding a digit.\"\"\"\n",
        "\n",
        "    def call(self, inputs):\n",
        "        z_mean, z_log_var = inputs\n",
        "        batch = tf.shape(z_mean)[0]\n",
        "        dim = tf.shape(z_mean)[1]\n",
        "        epsilon = tf.keras.backend.random_normal(shape=(batch, dim))\n",
        "        return z_mean + tf.exp(0.5 * z_log_var) * epsilon"
      ],
      "execution_count": null,
      "outputs": []
    },
    {
      "cell_type": "code",
      "metadata": {
        "id": "3NDLCFyJQcPQ",
        "outputId": "93ed0d50-63af-4a74-e7bf-7a8dc8304250",
        "colab": {
          "base_uri": "https://localhost:8080/",
          "height": 442
        }
      },
      "source": [
        "latent_dim = 9408\n",
        "encoder_inputs = keras.Input(shape=(224, 224, 1))\n",
        "x = layers.Conv2D(32, 3, activation=\"relu\", strides=2, padding=\"same\")(encoder_inputs)\n",
        "x = layers.Conv2D(64, 3, activation=\"relu\", strides=2, padding=\"same\")(x)\n",
        "x = layers.Flatten()(x)\n",
        "x = layers.Dense(16, activation=\"relu\")(x)\n",
        "z_mean = layers.Dense(latent_dim, name=\"z_mean\")(x)\n",
        "z_log_var = layers.Dense(latent_dim, name=\"z_log_var\")(x)\n",
        "z = Sampling()([z_mean, z_log_var])\n",
        "encoder = keras.Model(encoder_inputs, [z_mean, z_log_var, z], name=\"encoder\")\n",
        "encoder.summary()"
      ],
      "execution_count": null,
      "outputs": [
        {
          "output_type": "stream",
          "text": [
            "Model: \"encoder\"\n",
            "__________________________________________________________________________________________________\n",
            "Layer (type)                    Output Shape         Param #     Connected to                     \n",
            "==================================================================================================\n",
            "input_1 (InputLayer)            [(None, 224, 224, 1) 0                                            \n",
            "__________________________________________________________________________________________________\n",
            "conv2d (Conv2D)                 (None, 112, 112, 32) 320         input_1[0][0]                    \n",
            "__________________________________________________________________________________________________\n",
            "conv2d_1 (Conv2D)               (None, 56, 56, 64)   18496       conv2d[0][0]                     \n",
            "__________________________________________________________________________________________________\n",
            "flatten (Flatten)               (None, 200704)       0           conv2d_1[0][0]                   \n",
            "__________________________________________________________________________________________________\n",
            "dense (Dense)                   (None, 16)           3211280     flatten[0][0]                    \n",
            "__________________________________________________________________________________________________\n",
            "z_mean (Dense)                  (None, 9408)         159936      dense[0][0]                      \n",
            "__________________________________________________________________________________________________\n",
            "z_log_var (Dense)               (None, 9408)         159936      dense[0][0]                      \n",
            "__________________________________________________________________________________________________\n",
            "sampling (Sampling)             (None, 9408)         0           z_mean[0][0]                     \n",
            "                                                                 z_log_var[0][0]                  \n",
            "==================================================================================================\n",
            "Total params: 3,549,968\n",
            "Trainable params: 3,549,968\n",
            "Non-trainable params: 0\n",
            "__________________________________________________________________________________________________\n"
          ],
          "name": "stdout"
        }
      ]
    },
    {
      "cell_type": "code",
      "metadata": {
        "id": "DA4AMIeelnrZ"
      },
      "source": [
        "z_mean, z_log_var, z = encoder(x_train)"
      ],
      "execution_count": null,
      "outputs": []
    },
    {
      "cell_type": "code",
      "metadata": {
        "id": "yzD5AIdfl21B",
        "outputId": "25dd4d4d-2fb7-4e8f-96e3-6c835bfa5401",
        "colab": {
          "base_uri": "https://localhost:8080/",
          "height": 34
        }
      },
      "source": [
        "z = np.array(z).reshape((305, 56, 56, 3))\n",
        "z.shape"
      ],
      "execution_count": null,
      "outputs": [
        {
          "output_type": "execute_result",
          "data": {
            "text/plain": [
              "(305, 56, 56, 3)"
            ]
          },
          "metadata": {
            "tags": []
          },
          "execution_count": 7
        }
      ]
    },
    {
      "cell_type": "code",
      "metadata": {
        "id": "6Kf0j3LbUmHq"
      },
      "source": [
        "def fc():\n",
        "  densenet = DenseNet121(\n",
        "    weights='imagenet',\n",
        "    include_top=False,\n",
        "    input_shape=(56, 56, 3))\n",
        "  model = Sequential()\n",
        "  model.add(densenet)\n",
        "  model.add(layers.GlobalAveragePooling2D())\n",
        "  model.add(layers.Dense(2, activation='softmax'))\n",
        "  model.compile(loss='categorical_crossentropy',\n",
        "              optimizer='adam',\n",
        "              metrics=['accuracy'])\n",
        "  checkpoint = ModelCheckpoint(\n",
        "    'model.h5', \n",
        "    monitor='val_acc', \n",
        "    verbose=1, \n",
        "    save_best_only=True, \n",
        "    save_weights_only=False,\n",
        "    mode='auto')\n",
        "  return model"
      ],
      "execution_count": null,
      "outputs": []
    },
    {
      "cell_type": "code",
      "metadata": {
        "id": "C6JTVUJOfjSk"
      },
      "source": [
        "full_model = fc()"
      ],
      "execution_count": null,
      "outputs": []
    },
    {
      "cell_type": "code",
      "metadata": {
        "id": "rUzYWQr5gRGf",
        "outputId": "5e01cddb-a001-43e9-f38f-c1cb11997f6e",
        "colab": {
          "base_uri": "https://localhost:8080/",
          "height": 1000
        }
      },
      "source": [
        "full_model.fit(x = z, y = y_train, batch_size = 64, epochs = 100,  validation_split=0.2)"
      ],
      "execution_count": null,
      "outputs": [
        {
          "output_type": "stream",
          "text": [
            "Epoch 1/100\n",
            "4/4 [==============================] - 10s 3s/step - loss: 0.7784 - accuracy: 0.6639 - val_loss: 0.3960 - val_accuracy: 0.9016\n",
            "Epoch 2/100\n",
            "4/4 [==============================] - 8s 2s/step - loss: 0.5541 - accuracy: 0.8525 - val_loss: 0.6580 - val_accuracy: 0.6885\n",
            "Epoch 3/100\n",
            "4/4 [==============================] - 8s 2s/step - loss: 0.2815 - accuracy: 0.9180 - val_loss: 0.3463 - val_accuracy: 0.9016\n",
            "Epoch 4/100\n",
            "4/4 [==============================] - 8s 2s/step - loss: 0.1159 - accuracy: 0.9426 - val_loss: 0.3949 - val_accuracy: 0.9016\n",
            "Epoch 5/100\n",
            "4/4 [==============================] - 8s 2s/step - loss: 0.1457 - accuracy: 0.9754 - val_loss: 0.4245 - val_accuracy: 0.9016\n",
            "Epoch 6/100\n",
            "4/4 [==============================] - 8s 2s/step - loss: 0.1912 - accuracy: 0.9467 - val_loss: 0.3876 - val_accuracy: 0.9016\n",
            "Epoch 7/100\n",
            "4/4 [==============================] - 8s 2s/step - loss: 0.0537 - accuracy: 0.9795 - val_loss: 0.5622 - val_accuracy: 0.9016\n",
            "Epoch 8/100\n",
            "4/4 [==============================] - 8s 2s/step - loss: 0.1484 - accuracy: 0.9918 - val_loss: 2.3756 - val_accuracy: 0.1475\n",
            "Epoch 9/100\n",
            "4/4 [==============================] - 8s 2s/step - loss: 0.0726 - accuracy: 0.9795 - val_loss: 2.6555 - val_accuracy: 0.1311\n",
            "Epoch 10/100\n",
            "4/4 [==============================] - 8s 2s/step - loss: 0.0581 - accuracy: 0.9836 - val_loss: 2.3621 - val_accuracy: 0.1475\n",
            "Epoch 11/100\n",
            "4/4 [==============================] - 8s 2s/step - loss: 0.0686 - accuracy: 0.9918 - val_loss: 2.6445 - val_accuracy: 0.2131\n",
            "Epoch 12/100\n",
            "4/4 [==============================] - 8s 2s/step - loss: 0.0452 - accuracy: 0.9918 - val_loss: 0.8902 - val_accuracy: 0.5410\n",
            "Epoch 13/100\n",
            "4/4 [==============================] - 8s 2s/step - loss: 0.0071 - accuracy: 1.0000 - val_loss: 1.4228 - val_accuracy: 0.3770\n",
            "Epoch 14/100\n",
            "4/4 [==============================] - 8s 2s/step - loss: 0.0800 - accuracy: 0.9959 - val_loss: 2.1429 - val_accuracy: 0.2623\n",
            "Epoch 15/100\n",
            "4/4 [==============================] - 8s 2s/step - loss: 0.0144 - accuracy: 0.9959 - val_loss: 3.1047 - val_accuracy: 0.0984\n",
            "Epoch 16/100\n",
            "4/4 [==============================] - 8s 2s/step - loss: 0.0099 - accuracy: 0.9959 - val_loss: 2.6698 - val_accuracy: 0.0984\n",
            "Epoch 17/100\n",
            "4/4 [==============================] - 8s 2s/step - loss: 0.0022 - accuracy: 1.0000 - val_loss: 2.4162 - val_accuracy: 0.1148\n",
            "Epoch 18/100\n",
            "4/4 [==============================] - 8s 2s/step - loss: 0.0028 - accuracy: 1.0000 - val_loss: 2.2163 - val_accuracy: 0.1311\n",
            "Epoch 19/100\n",
            "4/4 [==============================] - 8s 2s/step - loss: 0.0114 - accuracy: 0.9959 - val_loss: 2.0159 - val_accuracy: 0.1475\n",
            "Epoch 20/100\n",
            "4/4 [==============================] - 8s 2s/step - loss: 7.0046e-04 - accuracy: 1.0000 - val_loss: 1.6777 - val_accuracy: 0.1803\n",
            "Epoch 21/100\n",
            "4/4 [==============================] - 8s 2s/step - loss: 6.5699e-04 - accuracy: 1.0000 - val_loss: 1.5047 - val_accuracy: 0.2623\n",
            "Epoch 22/100\n",
            "4/4 [==============================] - 8s 2s/step - loss: 0.0486 - accuracy: 0.9918 - val_loss: 0.9219 - val_accuracy: 0.4098\n",
            "Epoch 23/100\n",
            "4/4 [==============================] - 8s 2s/step - loss: 0.0575 - accuracy: 0.9918 - val_loss: 0.6694 - val_accuracy: 0.6230\n",
            "Epoch 24/100\n",
            "4/4 [==============================] - 8s 2s/step - loss: 0.0116 - accuracy: 0.9959 - val_loss: 0.6531 - val_accuracy: 0.6721\n",
            "Epoch 25/100\n",
            "4/4 [==============================] - 8s 2s/step - loss: 0.0131 - accuracy: 0.9959 - val_loss: 0.8101 - val_accuracy: 0.5738\n",
            "Epoch 26/100\n",
            "4/4 [==============================] - 8s 2s/step - loss: 0.0756 - accuracy: 0.9877 - val_loss: 0.8743 - val_accuracy: 0.5410\n",
            "Epoch 27/100\n",
            "4/4 [==============================] - 8s 2s/step - loss: 0.0075 - accuracy: 1.0000 - val_loss: 0.9189 - val_accuracy: 0.4754\n",
            "Epoch 28/100\n",
            "4/4 [==============================] - 8s 2s/step - loss: 0.0139 - accuracy: 0.9959 - val_loss: 0.6150 - val_accuracy: 0.6721\n",
            "Epoch 29/100\n",
            "4/4 [==============================] - 8s 2s/step - loss: 0.0207 - accuracy: 0.9918 - val_loss: 0.4719 - val_accuracy: 0.8197\n",
            "Epoch 30/100\n",
            "4/4 [==============================] - 8s 2s/step - loss: 0.0209 - accuracy: 0.9959 - val_loss: 0.4390 - val_accuracy: 0.8525\n",
            "Epoch 31/100\n",
            "4/4 [==============================] - 9s 2s/step - loss: 0.0052 - accuracy: 1.0000 - val_loss: 0.4492 - val_accuracy: 0.8525\n",
            "Epoch 32/100\n",
            "4/4 [==============================] - 9s 2s/step - loss: 0.0081 - accuracy: 0.9959 - val_loss: 0.4648 - val_accuracy: 0.8689\n",
            "Epoch 33/100\n",
            "4/4 [==============================] - 8s 2s/step - loss: 0.0053 - accuracy: 1.0000 - val_loss: 0.4796 - val_accuracy: 0.8525\n",
            "Epoch 34/100\n",
            "4/4 [==============================] - 9s 2s/step - loss: 9.0218e-04 - accuracy: 1.0000 - val_loss: 0.4935 - val_accuracy: 0.8361\n",
            "Epoch 35/100\n",
            "4/4 [==============================] - 8s 2s/step - loss: 0.0022 - accuracy: 1.0000 - val_loss: 0.5066 - val_accuracy: 0.8361\n",
            "Epoch 36/100\n",
            "4/4 [==============================] - 8s 2s/step - loss: 0.0086 - accuracy: 0.9959 - val_loss: 0.5536 - val_accuracy: 0.8361\n",
            "Epoch 37/100\n",
            "4/4 [==============================] - 8s 2s/step - loss: 7.7185e-04 - accuracy: 1.0000 - val_loss: 0.6042 - val_accuracy: 0.8197\n",
            "Epoch 38/100\n",
            "4/4 [==============================] - 8s 2s/step - loss: 6.7224e-04 - accuracy: 1.0000 - val_loss: 0.6447 - val_accuracy: 0.8197\n",
            "Epoch 39/100\n",
            "4/4 [==============================] - 8s 2s/step - loss: 9.4329e-04 - accuracy: 1.0000 - val_loss: 0.6665 - val_accuracy: 0.8361\n",
            "Epoch 40/100\n",
            "4/4 [==============================] - 8s 2s/step - loss: 8.3871e-04 - accuracy: 1.0000 - val_loss: 0.6762 - val_accuracy: 0.8525\n",
            "Epoch 41/100\n",
            "4/4 [==============================] - 12s 3s/step - loss: 6.9974e-04 - accuracy: 1.0000 - val_loss: 0.6758 - val_accuracy: 0.8525\n",
            "Epoch 42/100\n",
            "4/4 [==============================] - 8s 2s/step - loss: 4.9850e-04 - accuracy: 1.0000 - val_loss: 0.6694 - val_accuracy: 0.8525\n",
            "Epoch 43/100\n",
            "4/4 [==============================] - 8s 2s/step - loss: 6.2487e-04 - accuracy: 1.0000 - val_loss: 0.6603 - val_accuracy: 0.8525\n",
            "Epoch 44/100\n",
            "4/4 [==============================] - 8s 2s/step - loss: 4.6958e-04 - accuracy: 1.0000 - val_loss: 0.6492 - val_accuracy: 0.8689\n",
            "Epoch 45/100\n",
            "4/4 [==============================] - 8s 2s/step - loss: 3.7163e-04 - accuracy: 1.0000 - val_loss: 0.6387 - val_accuracy: 0.8689\n",
            "Epoch 46/100\n",
            "4/4 [==============================] - 8s 2s/step - loss: 2.1880e-04 - accuracy: 1.0000 - val_loss: 0.6336 - val_accuracy: 0.8689\n",
            "Epoch 47/100\n",
            "4/4 [==============================] - 8s 2s/step - loss: 4.4257e-04 - accuracy: 1.0000 - val_loss: 0.6312 - val_accuracy: 0.8689\n",
            "Epoch 48/100\n",
            "4/4 [==============================] - 8s 2s/step - loss: 2.3911e-04 - accuracy: 1.0000 - val_loss: 0.6315 - val_accuracy: 0.8689\n",
            "Epoch 49/100\n",
            "4/4 [==============================] - 8s 2s/step - loss: 2.2868e-04 - accuracy: 1.0000 - val_loss: 0.6350 - val_accuracy: 0.8689\n",
            "Epoch 50/100\n",
            "4/4 [==============================] - 8s 2s/step - loss: 1.4128e-04 - accuracy: 1.0000 - val_loss: 0.6354 - val_accuracy: 0.8689\n",
            "Epoch 51/100\n",
            "4/4 [==============================] - 8s 2s/step - loss: 1.0800e-04 - accuracy: 1.0000 - val_loss: 0.6370 - val_accuracy: 0.8689\n",
            "Epoch 52/100\n",
            "4/4 [==============================] - 8s 2s/step - loss: 1.5864e-04 - accuracy: 1.0000 - val_loss: 0.6378 - val_accuracy: 0.8689\n",
            "Epoch 53/100\n",
            "4/4 [==============================] - 8s 2s/step - loss: 2.4050e-04 - accuracy: 1.0000 - val_loss: 0.6415 - val_accuracy: 0.8689\n",
            "Epoch 54/100\n",
            "4/4 [==============================] - 8s 2s/step - loss: 0.0012 - accuracy: 1.0000 - val_loss: 0.6395 - val_accuracy: 0.8852\n",
            "Epoch 55/100\n",
            "4/4 [==============================] - 8s 2s/step - loss: 1.2454e-04 - accuracy: 1.0000 - val_loss: 0.6330 - val_accuracy: 0.8852\n",
            "Epoch 56/100\n",
            "4/4 [==============================] - 8s 2s/step - loss: 9.9201e-05 - accuracy: 1.0000 - val_loss: 0.6300 - val_accuracy: 0.8852\n",
            "Epoch 57/100\n",
            "4/4 [==============================] - 8s 2s/step - loss: 1.2022e-04 - accuracy: 1.0000 - val_loss: 0.6308 - val_accuracy: 0.8852\n",
            "Epoch 58/100\n",
            "4/4 [==============================] - 8s 2s/step - loss: 9.3532e-05 - accuracy: 1.0000 - val_loss: 0.6334 - val_accuracy: 0.8852\n",
            "Epoch 59/100\n",
            "4/4 [==============================] - 9s 2s/step - loss: 9.0573e-05 - accuracy: 1.0000 - val_loss: 0.6376 - val_accuracy: 0.8852\n",
            "Epoch 60/100\n",
            "4/4 [==============================] - 8s 2s/step - loss: 8.7209e-05 - accuracy: 1.0000 - val_loss: 0.6428 - val_accuracy: 0.8852\n",
            "Epoch 61/100\n",
            "4/4 [==============================] - 8s 2s/step - loss: 9.6059e-05 - accuracy: 1.0000 - val_loss: 0.6486 - val_accuracy: 0.8852\n",
            "Epoch 62/100\n",
            "4/4 [==============================] - 8s 2s/step - loss: 7.4362e-05 - accuracy: 1.0000 - val_loss: 0.6562 - val_accuracy: 0.8852\n",
            "Epoch 63/100\n",
            "4/4 [==============================] - 8s 2s/step - loss: 6.8143e-05 - accuracy: 1.0000 - val_loss: 0.6636 - val_accuracy: 0.8852\n",
            "Epoch 64/100\n",
            "4/4 [==============================] - 8s 2s/step - loss: 6.2153e-05 - accuracy: 1.0000 - val_loss: 0.6718 - val_accuracy: 0.8852\n",
            "Epoch 65/100\n",
            "4/4 [==============================] - 8s 2s/step - loss: 1.1990e-04 - accuracy: 1.0000 - val_loss: 0.6801 - val_accuracy: 0.8852\n",
            "Epoch 66/100\n",
            "4/4 [==============================] - 8s 2s/step - loss: 8.7717e-05 - accuracy: 1.0000 - val_loss: 0.6883 - val_accuracy: 0.8852\n",
            "Epoch 67/100\n",
            "4/4 [==============================] - 8s 2s/step - loss: 6.6365e-05 - accuracy: 1.0000 - val_loss: 0.6967 - val_accuracy: 0.8852\n",
            "Epoch 68/100\n",
            "4/4 [==============================] - 8s 2s/step - loss: 6.1196e-05 - accuracy: 1.0000 - val_loss: 0.7046 - val_accuracy: 0.9016\n",
            "Epoch 69/100\n",
            "4/4 [==============================] - 8s 2s/step - loss: 9.0867e-05 - accuracy: 1.0000 - val_loss: 0.7121 - val_accuracy: 0.9016\n",
            "Epoch 70/100\n",
            "4/4 [==============================] - 8s 2s/step - loss: 1.1087e-04 - accuracy: 1.0000 - val_loss: 0.7192 - val_accuracy: 0.9016\n",
            "Epoch 71/100\n",
            "4/4 [==============================] - 8s 2s/step - loss: 5.5708e-05 - accuracy: 1.0000 - val_loss: 0.7262 - val_accuracy: 0.9016\n",
            "Epoch 72/100\n",
            "4/4 [==============================] - 8s 2s/step - loss: 8.0903e-05 - accuracy: 1.0000 - val_loss: 0.7322 - val_accuracy: 0.9016\n",
            "Epoch 73/100\n",
            "4/4 [==============================] - 8s 2s/step - loss: 7.3301e-05 - accuracy: 1.0000 - val_loss: 0.7388 - val_accuracy: 0.9016\n",
            "Epoch 74/100\n",
            "4/4 [==============================] - 8s 2s/step - loss: 8.5944e-04 - accuracy: 1.0000 - val_loss: 0.7483 - val_accuracy: 0.8852\n",
            "Epoch 75/100\n",
            "4/4 [==============================] - 8s 2s/step - loss: 7.2005e-05 - accuracy: 1.0000 - val_loss: 0.7651 - val_accuracy: 0.8852\n",
            "Epoch 76/100\n",
            "4/4 [==============================] - 8s 2s/step - loss: 6.7046e-05 - accuracy: 1.0000 - val_loss: 0.7791 - val_accuracy: 0.8852\n",
            "Epoch 77/100\n",
            "4/4 [==============================] - 8s 2s/step - loss: 4.5078e-05 - accuracy: 1.0000 - val_loss: 0.7906 - val_accuracy: 0.8852\n",
            "Epoch 78/100\n",
            "4/4 [==============================] - 8s 2s/step - loss: 6.2896e-05 - accuracy: 1.0000 - val_loss: 0.8002 - val_accuracy: 0.8852\n",
            "Epoch 79/100\n",
            "4/4 [==============================] - 8s 2s/step - loss: 6.1172e-05 - accuracy: 1.0000 - val_loss: 0.8088 - val_accuracy: 0.8852\n",
            "Epoch 80/100\n",
            "4/4 [==============================] - 8s 2s/step - loss: 3.2553e-04 - accuracy: 1.0000 - val_loss: 0.8160 - val_accuracy: 0.8852\n",
            "Epoch 81/100\n",
            "4/4 [==============================] - 8s 2s/step - loss: 1.0165e-04 - accuracy: 1.0000 - val_loss: 0.8224 - val_accuracy: 0.8852\n",
            "Epoch 82/100\n",
            "4/4 [==============================] - 8s 2s/step - loss: 5.1815e-05 - accuracy: 1.0000 - val_loss: 0.8288 - val_accuracy: 0.8852\n",
            "Epoch 83/100\n",
            "4/4 [==============================] - 8s 2s/step - loss: 8.1561e-05 - accuracy: 1.0000 - val_loss: 0.8353 - val_accuracy: 0.8852\n",
            "Epoch 84/100\n",
            "4/4 [==============================] - 8s 2s/step - loss: 7.0108e-05 - accuracy: 1.0000 - val_loss: 0.8411 - val_accuracy: 0.8852\n",
            "Epoch 85/100\n",
            "4/4 [==============================] - 8s 2s/step - loss: 6.9398e-05 - accuracy: 1.0000 - val_loss: 0.8454 - val_accuracy: 0.8852\n",
            "Epoch 86/100\n",
            "4/4 [==============================] - 8s 2s/step - loss: 3.0879e-05 - accuracy: 1.0000 - val_loss: 0.8507 - val_accuracy: 0.8852\n",
            "Epoch 87/100\n",
            "4/4 [==============================] - 9s 2s/step - loss: 3.3525e-05 - accuracy: 1.0000 - val_loss: 0.8555 - val_accuracy: 0.8852\n",
            "Epoch 88/100\n",
            "4/4 [==============================] - 8s 2s/step - loss: 3.3002e-05 - accuracy: 1.0000 - val_loss: 0.8606 - val_accuracy: 0.8852\n",
            "Epoch 89/100\n",
            "4/4 [==============================] - 8s 2s/step - loss: 2.9623e-05 - accuracy: 1.0000 - val_loss: 0.8656 - val_accuracy: 0.8852\n",
            "Epoch 90/100\n",
            "4/4 [==============================] - 8s 2s/step - loss: 2.8610e-05 - accuracy: 1.0000 - val_loss: 0.8714 - val_accuracy: 0.8852\n",
            "Epoch 91/100\n",
            "4/4 [==============================] - 8s 2s/step - loss: 3.5779e-05 - accuracy: 1.0000 - val_loss: 0.8771 - val_accuracy: 0.8852\n",
            "Epoch 92/100\n",
            "4/4 [==============================] - 8s 2s/step - loss: 6.3052e-05 - accuracy: 1.0000 - val_loss: 0.8825 - val_accuracy: 0.8852\n",
            "Epoch 93/100\n",
            "4/4 [==============================] - 8s 2s/step - loss: 4.9191e-05 - accuracy: 1.0000 - val_loss: 0.8874 - val_accuracy: 0.8852\n",
            "Epoch 94/100\n",
            "4/4 [==============================] - 8s 2s/step - loss: 2.1087e-04 - accuracy: 1.0000 - val_loss: 0.8908 - val_accuracy: 0.8852\n",
            "Epoch 95/100\n",
            "4/4 [==============================] - 9s 2s/step - loss: 2.6556e-05 - accuracy: 1.0000 - val_loss: 0.8913 - val_accuracy: 0.8852\n",
            "Epoch 96/100\n",
            "4/4 [==============================] - 9s 2s/step - loss: 8.3266e-05 - accuracy: 1.0000 - val_loss: 0.8931 - val_accuracy: 0.8852\n",
            "Epoch 97/100\n",
            "4/4 [==============================] - 8s 2s/step - loss: 2.7602e-05 - accuracy: 1.0000 - val_loss: 0.8960 - val_accuracy: 0.8852\n",
            "Epoch 98/100\n",
            "4/4 [==============================] - 8s 2s/step - loss: 3.7861e-05 - accuracy: 1.0000 - val_loss: 0.8998 - val_accuracy: 0.8852\n",
            "Epoch 99/100\n",
            "4/4 [==============================] - 8s 2s/step - loss: 3.3302e-05 - accuracy: 1.0000 - val_loss: 0.9038 - val_accuracy: 0.8852\n",
            "Epoch 100/100\n",
            "4/4 [==============================] - 8s 2s/step - loss: 2.5052e-05 - accuracy: 1.0000 - val_loss: 0.9081 - val_accuracy: 0.8852\n"
          ],
          "name": "stdout"
        },
        {
          "output_type": "execute_result",
          "data": {
            "text/plain": [
              "<tensorflow.python.keras.callbacks.History at 0x7fc8e633af98>"
            ]
          },
          "metadata": {
            "tags": []
          },
          "execution_count": 20
        }
      ]
    },
    {
      "cell_type": "markdown",
      "metadata": {
        "id": "YDEYJYomlbVF"
      },
      "source": [
        ""
      ]
    },
    {
      "cell_type": "code",
      "metadata": {
        "id": "wo_h13L0soQQ"
      },
      "source": [
        "full_model.save(\"full_model.h5\")"
      ],
      "execution_count": null,
      "outputs": []
    },
    {
      "cell_type": "code",
      "metadata": {
        "id": "dlrBoWPs95nK"
      },
      "source": [
        "from keras.models import load_model\n",
        "from keras.preprocessing import image"
      ],
      "execution_count": null,
      "outputs": []
    },
    {
      "cell_type": "code",
      "metadata": {
        "id": "0c56K8EQ-AJ4"
      },
      "source": [
        "test_img = image.load_img('/content/drive/My Drive/test_image.jpg', target_size=(224, 224))"
      ],
      "execution_count": null,
      "outputs": []
    },
    {
      "cell_type": "code",
      "metadata": {
        "id": "o7ywD2PNFhKa"
      },
      "source": [
        "x = image.img_to_array(test_img)"
      ],
      "execution_count": null,
      "outputs": []
    },
    {
      "cell_type": "code",
      "metadata": {
        "id": "sSv1ggi5Fq-T"
      },
      "source": [
        "import matplotlib.pyplot as plt"
      ],
      "execution_count": null,
      "outputs": []
    },
    {
      "cell_type": "code",
      "metadata": {
        "id": "DT7R9_ASF58R",
        "outputId": "c51b2deb-277b-4847-acd3-137bb0d63710",
        "colab": {
          "base_uri": "https://localhost:8080/",
          "height": 286
        }
      },
      "source": [
        "plt.imshow(test_img)\n",
        "img = np.expand_dims(x, axis=0)\n",
        "result=full_model.predict_classes([img])\n",
        "print(result)"
      ],
      "execution_count": null,
      "outputs": [
        {
          "output_type": "stream",
          "text": [
            "[1]\n"
          ],
          "name": "stdout"
        },
        {
          "output_type": "display_data",
          "data": {
            "image/png": "[encoded data removed]",
            "text/plain": [
              "<Figure size 432x288 with 1 Axes>"
            ]
          },
          "metadata": {
            "tags": [],
            "needs_background": "light"
          }
        }
      ]
    },
    {
      "cell_type": "code",
      "metadata": {
        "id": "Oxj9fHGEH6mH",
        "outputId": "a1889fc1-1f93-4af4-dcee-2efede1644bf",
        "colab": {
          "base_uri": "https://localhost:8080/",
          "height": 34
        }
      },
      "source": [
        "from google.colab import files\n",
        "files.download('full_model.h5') "
      ],
      "execution_count": null,
      "outputs": [
        {
          "output_type": "display_data",
          "data": {
            "application/javascript": [
              "\n",
              "    async function download(id, filename, size) {\n",
              "      if (!google.colab.kernel.accessAllowed) {\n",
              "        return;\n",
              "      }\n",
              "      const div = document.createElement('div');\n",
              "      const label = document.createElement('label');\n",
              "      label.textContent = `Downloading \"${filename}\": `;\n",
              "      div.appendChild(label);\n",
              "      const progress = document.createElement('progress');\n",
              "      progress.max = size;\n",
              "      div.appendChild(progress);\n",
              "      document.body.appendChild(div);\n",
              "\n",
              "      const buffers = [];\n",
              "      let downloaded = 0;\n",
              "\n",
              "      const channel = await google.colab.kernel.comms.open(id);\n",
              "      // Send a message to notify the kernel that we're ready.\n",
              "      channel.send({})\n",
              "\n",
              "      for await (const message of channel.messages) {\n",
              "        // Send a message to notify the kernel that we're ready.\n",
              "        channel.send({})\n",
              "        if (message.buffers) {\n",
              "          for (const buffer of message.buffers) {\n",
              "            buffers.push(buffer);\n",
              "            downloaded += buffer.byteLength;\n",
              "            progress.value = downloaded;\n",
              "          }\n",
              "        }\n",
              "      }\n",
              "      const blob = new Blob(buffers, {type: 'application/binary'});\n",
              "      const a = document.createElement('a');\n",
              "      a.href = window.URL.createObjectURL(blob);\n",
              "      a.download = filename;\n",
              "      div.appendChild(a);\n",
              "      a.click();\n",
              "      div.remove();\n",
              "    }\n",
              "  "
            ],
            "text/plain": [
              "<IPython.core.display.Javascript object>"
            ]
          },
          "metadata": {
            "tags": []
          }
        },
        {
          "output_type": "display_data",
          "data": {
            "application/javascript": [
              "download(\"download_17d9d9b0-cdcf-4031-ba9f-458ac94a0ab0\", \"full_model.h5\", 85389704)"
            ],
            "text/plain": [
              "<IPython.core.display.Javascript object>"
            ]
          },
          "metadata": {
            "tags": []
          }
        }
      ]
    },
    {
      "cell_type": "code",
      "metadata": {
        "id": "DV7S6CchXm7-",
        "outputId": "c5762181-cd67-4375-ac50-a4a364d1b492",
        "colab": {
          "base_uri": "https://localhost:8080/",
          "height": 34
        }
      },
      "source": [
        "from google.colab import drive\n",
        "drive.mount(\"/content/drive\")"
      ],
      "execution_count": null,
      "outputs": [
        {
          "output_type": "stream",
          "text": [
            "Drive already mounted at /content/drive; to attempt to forcibly remount, call drive.mount(\"/content/drive\", force_remount=True).\n"
          ],
          "name": "stdout"
        }
      ]
    },
    {
      "cell_type": "code",
      "metadata": {
        "id": "feqcWWwblrT8"
      },
      "source": [
        "import numpy as np\n",
        "import os\n",
        "import json\n",
        "import pandas as pd\n",
        "import tensorflow as tf\n",
        "from tensorflow import keras\n",
        "from keras import layers\n",
        "from keras.applications import DenseNet121\n",
        "from keras.callbacks import Callback, ModelCheckpoint\n",
        "from keras.preprocessing.image import ImageDataGenerator\n",
        "from keras.layers import Dense, Dropout, Activation, Flatten\n",
        "from keras.layers import Conv2D, MaxPooling2D\n",
        "from keras.models import Sequential\n",
        "from sklearn.model_selection import train_test_split\n",
        "from sklearn.metrics import confusion_matrix, f1_score, precision_score, recall_score"
      ],
      "execution_count": null,
      "outputs": []
    },
    {
      "cell_type": "code",
      "metadata": {
        "id": "OJshISdsnbEl",
        "outputId": "887863c4-3212-47eb-9f0f-0c8999379734",
        "colab": {
          "base_uri": "https://localhost:8080/",
          "height": 34
        }
      },
      "source": [
        "x_test = np.load('/content/drive/My Drive/test_images.npy')\n",
        "x_test = np.repeat(x_test[..., np.newaxis], 3, -1)\n",
        "y_test = np.load('/content/drive/My Drive/test_labels.npy')\n",
        "x_test = x_test.astype('float32')\n",
        "x_test /= 255\n",
        "x_test.shape"
      ],
      "execution_count": null,
      "outputs": [
        {
          "output_type": "execute_result",
          "data": {
            "text/plain": [
              "(98, 224, 224, 3)"
            ]
          },
          "metadata": {
            "tags": []
          },
          "execution_count": 23
        }
      ]
    },
    {
      "cell_type": "code",
      "metadata": {
        "id": "VGHWzbJPoVOg"
      },
      "source": [
        "from keras.models import load_model\n",
        "model = load_model(\"/content/drive/My Drive/full_model.h5\")"
      ],
      "execution_count": null,
      "outputs": []
    },
    {
      "cell_type": "code",
      "metadata": {
        "id": "yjp6oYAeoV2W",
        "outputId": "9674a5de-1741-4f4a-f43e-3291d4f7183a",
        "colab": {
          "base_uri": "https://localhost:8080/",
          "height": 122
        }
      },
      "source": [
        "result = model.predict_classes(x_test)\n",
        "print(result)"
      ],
      "execution_count": null,
      "outputs": [
        {
          "output_type": "stream",
          "text": [
            "WARNING:tensorflow:Model was constructed with shape (None, 56, 56, 3) for input Tensor(\"densenet121_input_3:0\", shape=(None, 56, 56, 3), dtype=float32), but it was called on an input with incompatible shape (None, 224, 224, 3).\n",
            "WARNING:tensorflow:Model was constructed with shape (None, 56, 56, 3) for input Tensor(\"input_2_1:0\", shape=(None, 56, 56, 3), dtype=float32), but it was called on an input with incompatible shape (None, 224, 224, 3).\n",
            "[1 1 1 1 1 1 1 1 1 1 1 1 1 1 1 1 1 1 1 1 1 1 1 1 1 1 1 1 1 1 1 1 1 1 1 1 1\n",
            " 1 1 1 1 1 1 1 1 1 1 1 1 1 1 1 1 1 1 1 1 1 1 1 1 1 1 1 1 1 1 1 1 1 1 1 1 1\n",
            " 1 1 1 1 1 1 1 1 1 1 1 1 1 1 1 1 1 1 1 1 1 1 1 1]\n"
          ],
          "name": "stdout"
        }
      ]
    },
    {
      "cell_type": "code",
      "metadata": {
        "id": "QvRnhd2nzd0C"
      },
      "source": [
        ""
      ],
      "execution_count": null,
      "outputs": []
    }
  ]
}